{
 "cells": [
  {
   "cell_type": "markdown",
   "metadata": {},
   "source": [
    "### Set Up\n",
    " - https://parameter-sherpa.readthedocs.io/en/latest/gettingstarted/installation.html\n",
    " - pip install pymongo\n",
    "\n",
    "これでOK\n",
    "\n",
    "### jupyter notebookで\n",
    "以下のパスが必要\n",
    "\n",
    "- `cd /opt/conda/lib/python3.6/site-packages/`\n",
    "- `ln -nfs /your/path/sherpa/sherpa sherpa`"
   ]
  },
  {
   "cell_type": "code",
   "execution_count": 1,
   "metadata": {},
   "outputs": [
    {
     "name": "stdout",
     "output_type": "stream",
     "text": [
      "/opt/conda/lib/python3.6/site-packages/sherpa/__init__.py\n"
     ]
    }
   ],
   "source": [
    "import sys\n",
    "import sherpa\n",
    "print(sherpa.__file__)"
   ]
  },
  {
   "cell_type": "markdown",
   "metadata": {},
   "source": [
    "### まずは普通に"
   ]
  },
  {
   "cell_type": "code",
   "execution_count": 2,
   "metadata": {},
   "outputs": [
    {
     "name": "stderr",
     "output_type": "stream",
     "text": [
      "Using TensorFlow backend.\n"
     ]
    }
   ],
   "source": [
    "import keras\n",
    "from keras.datasets import mnist\n",
    "from keras.models import Sequential\n",
    "from keras.layers import Dense, Dropout\n",
    "from keras.optimizers import RMSprop\n",
    "\n",
    "batch_size = 128\n",
    "num_classes = 10\n",
    "epochs = 20"
   ]
  },
  {
   "cell_type": "code",
   "execution_count": 3,
   "metadata": {},
   "outputs": [
    {
     "name": "stdout",
     "output_type": "stream",
     "text": [
      "Downloading data from https://s3.amazonaws.com/img-datasets/mnist.npz\n",
      "11493376/11490434 [==============================] - 42s 4us/step\n",
      "60000 train samples\n",
      "10000 test samples\n"
     ]
    }
   ],
   "source": [
    "# the data, shuffled and split between train and test sets\n",
    "(x_train, y_train), (x_test, y_test) = mnist.load_data()\n",
    "\n",
    "x_train = x_train.reshape(60000, 784) # 2次元配列を1次元に変換\n",
    "x_test = x_test.reshape(10000, 784)\n",
    "x_train = x_train.astype('float32')   # int型をfloat32型に変換\n",
    "x_test = x_test.astype('float32')\n",
    "x_train /= 255                        # [0-255]の値を[0.0-1.0]に変換\n",
    "x_test /= 255\n",
    "print(x_train.shape[0], 'train samples')\n",
    "print(x_test.shape[0], 'test samples')"
   ]
  },
  {
   "cell_type": "code",
   "execution_count": 4,
   "metadata": {},
   "outputs": [],
   "source": [
    "# convert class vectors to binary class matrices\n",
    "y_train = keras.utils.to_categorical(y_train, num_classes)\n",
    "y_test = keras.utils.to_categorical(y_test, num_classes)"
   ]
  },
  {
   "cell_type": "code",
   "execution_count": 5,
   "metadata": {},
   "outputs": [
    {
     "name": "stdout",
     "output_type": "stream",
     "text": [
      "_________________________________________________________________\n",
      "Layer (type)                 Output Shape              Param #   \n",
      "=================================================================\n",
      "dense_1 (Dense)              (None, 512)               401920    \n",
      "_________________________________________________________________\n",
      "dropout_1 (Dropout)          (None, 512)               0         \n",
      "_________________________________________________________________\n",
      "dense_2 (Dense)              (None, 512)               262656    \n",
      "_________________________________________________________________\n",
      "dropout_2 (Dropout)          (None, 512)               0         \n",
      "_________________________________________________________________\n",
      "dense_3 (Dense)              (None, 10)                5130      \n",
      "=================================================================\n",
      "Total params: 669,706\n",
      "Trainable params: 669,706\n",
      "Non-trainable params: 0\n",
      "_________________________________________________________________\n"
     ]
    }
   ],
   "source": [
    "model = Sequential()\n",
    "model.add(Dense(512, activation='relu', input_shape=(784,)))\n",
    "model.add(Dropout(0.2))\n",
    "model.add(Dense(512, activation='relu'))\n",
    "model.add(Dropout(0.2))\n",
    "model.add(Dense(10, activation='softmax'))\n",
    "\n",
    "model.summary()\n",
    "model.compile(loss='categorical_crossentropy', optimizer=RMSprop(), metrics=['accuracy'])"
   ]
  },
  {
   "cell_type": "code",
   "execution_count": 6,
   "metadata": {},
   "outputs": [
    {
     "name": "stdout",
     "output_type": "stream",
     "text": [
      "Train on 60000 samples, validate on 10000 samples\n",
      "Epoch 1/20\n",
      "60000/60000 [==============================] - 9s 158us/step - loss: 0.2452 - acc: 0.9248 - val_loss: 0.1047 - val_acc: 0.9667\n",
      "Epoch 2/20\n",
      "60000/60000 [==============================] - 9s 156us/step - loss: 0.1034 - acc: 0.9686 - val_loss: 0.0936 - val_acc: 0.9732\n",
      "Epoch 3/20\n",
      "60000/60000 [==============================] - 9s 156us/step - loss: 0.0745 - acc: 0.9771 - val_loss: 0.0780 - val_acc: 0.9784\n",
      "Epoch 4/20\n",
      "60000/60000 [==============================] - 9s 156us/step - loss: 0.0607 - acc: 0.9813 - val_loss: 0.0746 - val_acc: 0.9791\n",
      "Epoch 5/20\n",
      "60000/60000 [==============================] - 10s 165us/step - loss: 0.0510 - acc: 0.9849 - val_loss: 0.0668 - val_acc: 0.9820\n",
      "Epoch 6/20\n",
      "60000/60000 [==============================] - 10s 168us/step - loss: 0.0428 - acc: 0.9877 - val_loss: 0.0682 - val_acc: 0.9833\n",
      "Epoch 7/20\n",
      "60000/60000 [==============================] - 9s 157us/step - loss: 0.0386 - acc: 0.9887 - val_loss: 0.0856 - val_acc: 0.9799\n",
      "Epoch 8/20\n",
      "60000/60000 [==============================] - 11s 182us/step - loss: 0.0356 - acc: 0.9899 - val_loss: 0.0848 - val_acc: 0.9830\n",
      "Epoch 9/20\n",
      "60000/60000 [==============================] - 10s 168us/step - loss: 0.0320 - acc: 0.9909 - val_loss: 0.0867 - val_acc: 0.9827\n",
      "Epoch 10/20\n",
      "60000/60000 [==============================] - 10s 166us/step - loss: 0.0286 - acc: 0.9914 - val_loss: 0.0838 - val_acc: 0.9827\n",
      "Epoch 11/20\n",
      "60000/60000 [==============================] - 9s 158us/step - loss: 0.0259 - acc: 0.9926 - val_loss: 0.0906 - val_acc: 0.9830\n",
      "Epoch 12/20\n",
      "60000/60000 [==============================] - 10s 167us/step - loss: 0.0252 - acc: 0.9927 - val_loss: 0.0859 - val_acc: 0.9838\n",
      "Epoch 13/20\n",
      "60000/60000 [==============================] - 9s 153us/step - loss: 0.0237 - acc: 0.9931 - val_loss: 0.0987 - val_acc: 0.9817\n",
      "Epoch 14/20\n",
      "60000/60000 [==============================] - 10s 167us/step - loss: 0.0224 - acc: 0.9939 - val_loss: 0.0895 - val_acc: 0.9839\n",
      "Epoch 15/20\n",
      "60000/60000 [==============================] - 10s 165us/step - loss: 0.0197 - acc: 0.9941 - val_loss: 0.1068 - val_acc: 0.9820\n",
      "Epoch 16/20\n",
      "60000/60000 [==============================] - 11s 178us/step - loss: 0.0206 - acc: 0.9944 - val_loss: 0.1011 - val_acc: 0.9838\n",
      "Epoch 17/20\n",
      "60000/60000 [==============================] - 10s 169us/step - loss: 0.0211 - acc: 0.9941 - val_loss: 0.1011 - val_acc: 0.9853\n",
      "Epoch 18/20\n",
      "60000/60000 [==============================] - 9s 158us/step - loss: 0.0172 - acc: 0.9953 - val_loss: 0.1030 - val_acc: 0.9835\n",
      "Epoch 19/20\n",
      "60000/60000 [==============================] - 9s 154us/step - loss: 0.0181 - acc: 0.9959 - val_loss: 0.1090 - val_acc: 0.9850\n",
      "Epoch 20/20\n",
      "60000/60000 [==============================] - 10s 164us/step - loss: 0.0180 - acc: 0.9955 - val_loss: 0.1149 - val_acc: 0.9820\n"
     ]
    }
   ],
   "source": [
    "history = model.fit(x_train, y_train,\n",
    "                    batch_size=batch_size,\n",
    "                    epochs=epochs,\n",
    "                    verbose=1,\n",
    "                    validation_data=(x_test, y_test))"
   ]
  },
  {
   "cell_type": "code",
   "execution_count": 7,
   "metadata": {},
   "outputs": [
    {
     "name": "stdout",
     "output_type": "stream",
     "text": [
      "Test loss: 0.114885806221\n",
      "Test accuracy: 0.982\n"
     ]
    }
   ],
   "source": [
    "score = model.evaluate(x_test, y_test, verbose=0)\n",
    "print('Test loss:', score[0])\n",
    "print('Test accuracy:', score[1])"
   ]
  },
  {
   "cell_type": "markdown",
   "metadata": {},
   "source": [
    "### ここまでは普通のMNIST\n",
    "以下でsherpaを利用してハイパーパラメータのチューニングを行う"
   ]
  },
  {
   "cell_type": "code",
   "execution_count": 8,
   "metadata": {},
   "outputs": [],
   "source": [
    "import sherpa\n",
    "\n",
    "parameters = [sherpa.Discrete('num_units', [25, 200]),\n",
    "              sherpa.Continuous('dropout', [0., 0.5])]\n",
    "\n",
    "alg = sherpa.algorithms.BayesianOptimization(num_grid_points=3, max_num_trials=4)"
   ]
  },
  {
   "cell_type": "code",
   "execution_count": 9,
   "metadata": {},
   "outputs": [
    {
     "name": "stderr",
     "output_type": "stream",
     "text": [
      "INFO:sherpa.core:\n",
      "-------------------------------------------------------\n",
      "SHERPA Dashboard running on http://172.17.0.4:8880\n",
      "-------------------------------------------------------\n",
      "Process Process-2:\n",
      "Traceback (most recent call last):\n",
      "  File \"/opt/conda/lib/python3.6/multiprocessing/process.py\", line 258, in _bootstrap\n",
      "    self.run()\n",
      "  File \"/opt/conda/lib/python3.6/multiprocessing/process.py\", line 93, in run\n",
      "    self._target(*self._args, **self._kwargs)\n",
      "  File \"/opt/conda/lib/python3.6/site-packages/flask/app.py\", line 938, in run\n",
      "    cli.show_server_banner(self.env, self.debug, self.name, False)\n",
      "  File \"/opt/conda/lib/python3.6/site-packages/flask/cli.py\", line 629, in show_server_banner\n",
      "    click.echo(message)\n",
      "  File \"/opt/conda/lib/python3.6/site-packages/click/utils.py\", line 259, in echo\n",
      "    file.write(message)\n",
      "io.UnsupportedOperation: not writable\n"
     ]
    }
   ],
   "source": [
    "study = sherpa.Study(parameters=parameters,\n",
    "                     algorithm=alg,\n",
    "                     lower_is_better=True)"
   ]
  },
  {
   "cell_type": "code",
   "execution_count": 10,
   "metadata": {
    "scrolled": false
   },
   "outputs": [
    {
     "name": "stdout",
     "output_type": "stream",
     "text": [
      "{'dropout': 0.125, 'num_units': 68}\n",
      "Train on 60000 samples, validate on 10000 samples\n",
      "Epoch 1/5\n",
      "60000/60000 [==============================] - 3s 43us/step - loss: 0.4376 - acc: 0.8700 - val_loss: 0.1922 - val_acc: 0.9438\n",
      "Epoch 2/5\n",
      "60000/60000 [==============================] - 2s 30us/step - loss: 0.2084 - acc: 0.9375 - val_loss: 0.1361 - val_acc: 0.9599\n",
      "Epoch 3/5\n",
      "60000/60000 [==============================] - 2s 32us/step - loss: 0.1582 - acc: 0.9523 - val_loss: 0.1235 - val_acc: 0.9625\n",
      "Epoch 4/5\n",
      "60000/60000 [==============================] - 2s 40us/step - loss: 0.1389 - acc: 0.9583 - val_loss: 0.1039 - val_acc: 0.9691\n",
      "Epoch 5/5\n",
      "60000/60000 [==============================] - 2s 32us/step - loss: 0.1209 - acc: 0.9629 - val_loss: 0.1012 - val_acc: 0.9695\n",
      "{'dropout': 0.125, 'num_units': 112}\n",
      "Train on 60000 samples, validate on 10000 samples\n",
      "Epoch 1/5\n",
      "60000/60000 [==============================] - 3s 45us/step - loss: 0.3577 - acc: 0.8951 - val_loss: 0.1605 - val_acc: 0.9512\n",
      "Epoch 2/5\n",
      "60000/60000 [==============================] - 2s 41us/step - loss: 0.1626 - acc: 0.9509 - val_loss: 0.1064 - val_acc: 0.9676\n",
      "Epoch 3/5\n",
      "60000/60000 [==============================] - 3s 42us/step - loss: 0.1198 - acc: 0.9639 - val_loss: 0.1032 - val_acc: 0.9684\n",
      "Epoch 4/5\n",
      "60000/60000 [==============================] - 2s 40us/step - loss: 0.0987 - acc: 0.9702 - val_loss: 0.0880 - val_acc: 0.9721\n",
      "Epoch 5/5\n",
      "60000/60000 [==============================] - 2s 41us/step - loss: 0.0850 - acc: 0.9743 - val_loss: 0.0821 - val_acc: 0.9761\n",
      "{'dropout': 0.125, 'num_units': 156}\n",
      "Train on 60000 samples, validate on 10000 samples\n",
      "Epoch 1/5\n",
      "60000/60000 [==============================] - 4s 59us/step - loss: 0.3205 - acc: 0.9037 - val_loss: 0.1475 - val_acc: 0.9549\n",
      "Epoch 2/5\n",
      "60000/60000 [==============================] - 3s 44us/step - loss: 0.1380 - acc: 0.9585 - val_loss: 0.0922 - val_acc: 0.9728\n",
      "Epoch 3/5\n",
      "60000/60000 [==============================] - 3s 46us/step - loss: 0.1013 - acc: 0.9699 - val_loss: 0.0874 - val_acc: 0.9746\n",
      "Epoch 4/5\n",
      "60000/60000 [==============================] - 3s 47us/step - loss: 0.0817 - acc: 0.9753 - val_loss: 0.0845 - val_acc: 0.9744\n",
      "Epoch 5/5\n",
      "60000/60000 [==============================] - 3s 54us/step - loss: 0.0693 - acc: 0.9791 - val_loss: 0.0872 - val_acc: 0.9747\n"
     ]
    }
   ],
   "source": [
    "for trial in study:\n",
    "    print(trial.parameters)\n",
    "    model = Sequential()\n",
    "    model.add(Dense(units=int(trial.parameters['num_units']), activation='relu', input_shape=(784,)))\n",
    "    model.add(Dropout(trial.parameters['dropout']))\n",
    "    model.add(Dense(units=int(trial.parameters['num_units']), activation='relu'))\n",
    "    model.add(Dropout(trial.parameters['dropout']))\n",
    "    model.add(Dense(10, activation='softmax'))\n",
    "\n",
    "    model.compile(loss='categorical_crossentropy', optimizer=RMSprop(), metrics=['accuracy'])\n",
    "    \n",
    "    history = model.fit(x_train, y_train,\n",
    "                    batch_size=batch_size,\n",
    "                    epochs=5,\n",
    "                    verbose=1,\n",
    "                    callbacks=[study.keras_callback(trial, objective_name='val_loss')],\n",
    "                    validation_data=(x_test, y_test))\n",
    "    study.finalize(trial)"
   ]
  },
  {
   "cell_type": "code",
   "execution_count": 11,
   "metadata": {},
   "outputs": [
    {
     "name": "stdout",
     "output_type": "stream",
     "text": [
      "{'Trial-ID': 2, 'Iteration': 4, 'dropout': 0.125, 'num_units': 112, 'Objective': 0.082121041838638484}\n"
     ]
    }
   ],
   "source": [
    "print(study.get_best_result())"
   ]
  },
  {
   "cell_type": "markdown",
   "metadata": {},
   "source": [
    "### この値を利用すればOK"
   ]
  }
 ],
 "metadata": {
  "kernelspec": {
   "display_name": "Python 3",
   "language": "python",
   "name": "python3"
  },
  "language_info": {
   "codemirror_mode": {
    "name": "ipython",
    "version": 3
   },
   "file_extension": ".py",
   "mimetype": "text/x-python",
   "name": "python",
   "nbconvert_exporter": "python",
   "pygments_lexer": "ipython3",
   "version": "3.6.5"
  }
 },
 "nbformat": 4,
 "nbformat_minor": 2
}
